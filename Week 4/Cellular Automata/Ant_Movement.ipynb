{
 "cells": [
  {
   "cell_type": "markdown",
   "metadata": {},
   "source": [
    "# Coursera - Simulation and modeling of natural processes - Cellular Automata"
   ]
  },
  {
   "cell_type": "markdown",
   "metadata": {},
   "source": [
    "## Importing libraries"
   ]
  },
  {
   "cell_type": "code",
   "execution_count": 5,
   "metadata": {},
   "outputs": [],
   "source": [
    "import numpy as np\n",
    "import matplotlib\n",
    "import matplotlib.pyplot as plt\n"
   ]
  },
  {
   "cell_type": "markdown",
   "metadata": {},
   "source": [
    "## Defining parameters"
   ]
  },
  {
   "cell_type": "code",
   "execution_count": 6,
   "metadata": {},
   "outputs": [],
   "source": [
    "board = np.zeros((16,16))                       # Defining a 16x16 board\n",
    "board[2,5] = 1                                  # Board with 1 = Blue and 0 is White\n",
    "\n",
    "position_old = (4,5)                            # Starting position of the ant - Board position (4,5)\n",
    "direction_old = (int(np.cos(np.pi/2)), int(np.sin(np.pi/2)))    # Initial direction of movement of the ant - right\n"
   ]
  },
  {
   "cell_type": "markdown",
   "metadata": {},
   "source": [
    "## Plotting the board - Initialization"
   ]
  },
  {
   "cell_type": "code",
   "execution_count": 8,
   "metadata": {},
   "outputs": [
    {
     "data": {
      "image/png": "[encoded data removed]",
      "text/plain": [
       "<Figure size 432x288 with 1 Axes>"
      ]
     },
     "metadata": {
      "needs_background": "light"
     },
     "output_type": "display_data"
    }
   ],
   "source": [
    "fig, ax = plt.subplots()\n",
    "line1 = ax.matshow(board, cmap=plt.cm.Blues)    # Plotting the board\n",
    "\n",
    "for i in range(16):\n",
    "    for j in range(16):\n",
    "        c = board[i,j]\n",
    "        ax.text(i, j, str(c), va='center', ha='center')\n",
    "\n",
    "plt.ion()\n",
    "plt.show()\n"
   ]
  },
  {
   "cell_type": "markdown",
   "metadata": {},
   "source": [
    "## Movement of the ant"
   ]
  },
  {
   "cell_type": "code",
   "execution_count": null,
   "metadata": {},
   "outputs": [],
   "source": [
    "for moves in range(0, 100):\n",
    "    new_pos_x = position_old[0] + direction_old[0]\n",
    "    new_pos_y = position_old[1] + direction_old[1]\n",
    "    position_new = (new_pos_x, new_pos_y)           # New location of the ant when it moves 1 unit\n",
    "\n",
    "    if board[position_old[0], position_old[1]] == 1:\n",
    "        direction_old = (int(np.cos((moves + 1) * np.pi / 2)), int(np.sin((moves + 1) * np.pi / 2)))  # Direction of ant\n",
    "        board[position_old[0], position_old[1]] = 0     # Change colour of the board\n",
    "    else:\n",
    "        direction_old = (int(np.cos((moves - 1) * np.pi / 2)), int(np.sin((moves - 1) * np.pi / 2)))  # Direction of ant\n",
    "        board[position_old[0], position_old[1]] = 1     # Change colour of the board\n",
    "\n",
    "    position_old = position_new\n",
    "    # direction_old = (int(np.cos((moves+1)*np.pi / 2)), int(np.sin((moves+1)*np.pi / 2)))\n",
    "    line1 = ax.matshow(board, cmap=plt.cm.Blues)\n",
    "    plt.gcf().canvas.draw()                             # Updating the matrix plot\n",
    "\n",
    "\n",
    "print (\"Final board is: \", board)                       # After all moves, final color of the board\n"
   ]
  },
  {
   "cell_type": "code",
   "execution_count": null,
   "metadata": {},
   "outputs": [],
   "source": []
  }
 ],
 "metadata": {
  "kernelspec": {
   "display_name": "Python 3",
   "language": "python",
   "name": "python3"
  },
  "language_info": {
   "codemirror_mode": {
    "name": "ipython",
    "version": 3
   },
   "file_extension": ".py",
   "mimetype": "text/x-python",
   "name": "python",
   "nbconvert_exporter": "python",
   "pygments_lexer": "ipython3",
   "version": "3.7.3"
  }
 },
 "nbformat": 4,
 "nbformat_minor": 4
}
