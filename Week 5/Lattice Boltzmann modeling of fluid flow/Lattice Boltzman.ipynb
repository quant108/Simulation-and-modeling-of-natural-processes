{
 "cells": [
  {
   "cell_type": "markdown",
   "metadata": {},
   "source": [
    "# Coursera - Simulation and modeling of natural processes - Lattice Boltzmann modeling of fluid flow"
   ]
  },
  {
   "cell_type": "markdown",
   "metadata": {},
   "source": [
    "## Importing libraries"
   ]
  },
  {
   "cell_type": "code",
   "execution_count": 1,
   "metadata": {},
   "outputs": [],
   "source": [
    "import numpy as np\n",
    "import matplotlib\n",
    "import matplotlib.pyplot as plt\n",
    "from matplotlib import cm"
   ]
  },
  {
   "cell_type": "markdown",
   "metadata": {},
   "source": [
    "## Defining parameters"
   ]
  },
  {
   "cell_type": "markdown",
   "metadata": {},
   "source": [
    "### Flow parameters"
   ]
  },
  {
   "cell_type": "code",
   "execution_count": 2,
   "metadata": {},
   "outputs": [],
   "source": [
    "t_iter = 10       # Total number of iterations\n",
    "nx = 400            # Number of nodes along X\n",
    "ny = 100            # Number of nodes along Y\n",
    "h = ny - 1          # Height of domain\n",
    "\n",
    "cx = nx/4           # X co-ordinate of body (cylinder)\n",
    "cy = ny/2           # Y co-ordinate of body\n",
    "\n",
    "Re = 10             # Reynold's number\n",
    "r = ny/9            # Radius of body\n",
    "uL = 0.04           # Characteristic length of body\n",
    "nuL = uL*r/float(Re)    # viscosity\n",
    "omega = 1/float(3*nuL+0.5)  # Relaxation parameter\n",
    "\n",
    "col1 = np.array([0,1,2])    # Define column 1\n",
    "col2 = np.array([3,4,5])    # Define column 2\n",
    "col3 = np.array([6,7,8])    # Define column 3\n",
    "\n",
    "obstacle = (nx-cx)**2+(ny-cy)**2 < r**2"
   ]
  },
  {
   "cell_type": "markdown",
   "metadata": {},
   "source": [
    "### Lattice parameters"
   ]
  },
  {
   "cell_type": "code",
   "execution_count": 3,
   "metadata": {},
   "outputs": [],
   "source": [
    "v = np.array([ [ 1,  1], [ 1,  0], [ 1, -1], [ 0,  1], [ 0,  0], [ 0, -1], [-1,  1], [-1,  0], [-1, -1] ])  # Lattice velocities\n",
    "t = np.array([ 1/float(36), 1/float(9), 1/float(36), 1/float(9), 4/float(9), 1/float(9), 1/float(36), 1/float(9), 1/float(36)])    # Compensation for different lengths of v_i\n",
    "\n",
    "fin = np.zeros((9, nx, ny))               # Inlet population\n",
    "fout = np.zeros((9, nx, ny))              # Outlet population\n"
   ]
  },
  {
   "cell_type": "markdown",
   "metadata": {},
   "source": [
    "### Initial perturbation"
   ]
  },
  {
   "cell_type": "code",
   "execution_count": 4,
   "metadata": {},
   "outputs": [],
   "source": [
    "def inivel(d, x, y):\n",
    "    return (1-d) * uL * (1 + 1e-4*np.sin(y/h*2*np.pi))\n",
    "\n",
    "\n",
    "ini_vel = np.fromfunction(inivel, (2,nx,ny))   # Initial velocity\n",
    "\n",
    "for i in range(9):\n",
    "    cu = 3 * (v[i,0]*ini_vel[0,:,:] + v[i,1]*ini_vel[1,:,:])\n",
    "    fin[i,:,:] = 1*t[i] * (1 + cu + 0.5*cu**2 - (3/float(2) * (ini_vel[0]**2 + ini_vel[1]**2)))"
   ]
  },
  {
   "cell_type": "markdown",
   "metadata": {},
   "source": [
    "## For every time iteration"
   ]
  },
  {
   "cell_type": "code",
   "execution_count": null,
   "metadata": {},
   "outputs": [],
   "source": [
    "for nt in range(t_iter):\n",
    "    rho = np.zeros((nx, ny))  # Particle density\n",
    "    for ix in range(nx):\n",
    "        for iy in range(ny):\n",
    "            rho[ix, iy] = 0\n",
    "            for i in range(9):\n",
    "                rho[ix, iy] += fin[i, ix, iy]\n",
    "\n",
    "    u = np.zeros((2, nx, ny))  # Lattice velocities\n",
    "    for ix in range(nx):\n",
    "        for iy in range(ny):\n",
    "            u[0, ix, iy] = 0\n",
    "            u[1, ix, iy] = 0\n",
    "            for i in range(9):\n",
    "                u[0, ix, iy] = u[0, ix, iy] + v[i, 0] * fin[i, ix, iy]\n",
    "                u[1, ix, iy] = u[0, ix, iy] + v[i, 1] * fin[i, ix, iy]\n",
    "\n",
    "            u[0, ix, iy] = u[0, ix, iy] / float(rho[ix, iy])\n",
    "            u[1, ix, iy] = u[1, ix, iy] / float(rho[ix, iy])\n",
    "\n",
    "    # Collision steps\n",
    "    eq = np.zeros((9, nx, ny))\n",
    "    for i in range(9):\n",
    "        vu = 3 * (v[i, 0] * u[0, :, :] + v[i, 1] * u[1, :, :])\n",
    "        eq[i, :, :] = rho * t[i] * (1 + vu + 0.5 * vu ** 2 - (3 / float(2) * (u[0] ** 2 + u[1] ** 2)))\n",
    "\n",
    "    fout = fin - omega * (fin - eq)\n",
    "\n",
    "    # Streaming steps\n",
    "    for ix in range(nx):\n",
    "        for iy in range(ny):\n",
    "            for i in range(9):\n",
    "                next_x = ix + v[i, 0]\n",
    "                if next_x < 0:          # Condition if the flow goes beyond x = 0 boundary\n",
    "                    next_x = nx - 1\n",
    "                if next_x >= nx:        # Condition if the flow goes beyond x = nx boundary\n",
    "                    next_x = 0\n",
    "\n",
    "                next_y = iy + v[i, 1]\n",
    "                if next_y < 0:          # Condition if the flow goes beyond y = 0 boundary\n",
    "                    next_y = ny - 1\n",
    "                if next_y >= ny:        # Condition if the flow goes beyond y = ny boundary\n",
    "                    next_y = 0\n",
    "\n",
    "                fin[i, next_x, next_y] = fout[i, ix, iy]    # Flow entering the next node comes out the current node\n",
    "\n",
    "    # Bounce back boundary conditions\n",
    "    for i in range(9):\n",
    "        fout[i, obstacle] = fin[8 - i, obstacle]\n",
    "\n",
    "    # Outflow conditions:\n",
    "    fin[col3, -1, :] = fin[col3, -2, :]\n",
    "\n",
    "    # Inflow conditions:\n",
    "    rho[0, :] = 1 / (float(1) - u[0, 0, :]) * (np.sum(fin[col2, 0, :], axis=0) + 2 * np.sum(fin[col3, 0, :], axis=0))\n",
    "\n",
    "    fin[[0, 1, 2], 0, :] = eq[[0, 1, 2], 0, :] + fin[[8, 7, 6], 0, :] - eq[[8, 7, 6], 0, :]\n",
    "    \n",
    "    # Saving plotted flow\n",
    "    if (nt % 5 == 0):\n",
    "        plt.clf()\n",
    "        line1 = plt.imshow(np.sqrt(u[0] ** 2 + u[1] ** 2).transpose(), cmap=cm.Reds)\n",
    "        plt.savefig(\"vel.{0:04f}.png\".format(nt/5))"
   ]
  },
  {
   "cell_type": "markdown",
   "metadata": {},
   "source": []
  }
 ],
 "metadata": {
  "kernelspec": {
   "display_name": "Python 3",
   "language": "python",
   "name": "python3"
  },
  "language_info": {
   "codemirror_mode": {
    "name": "ipython",
    "version": 3
   },
   "file_extension": ".py",
   "mimetype": "text/x-python",
   "name": "python",
   "nbconvert_exporter": "python",
   "pygments_lexer": "ipython3",
   "version": "3.7.3"
  }
 },
 "nbformat": 4,
 "nbformat_minor": 4
}
