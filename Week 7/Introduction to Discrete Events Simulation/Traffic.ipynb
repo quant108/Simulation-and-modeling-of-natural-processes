{
 "cells": [
  {
   "cell_type": "markdown",
   "metadata": {},
   "source": [
    "# Coursera - Simulation and modeling of natural processes - Discrete Event Simulation"
   ]
  },
  {
   "cell_type": "markdown",
   "metadata": {},
   "source": [
    "## Importing Libraries"
   ]
  },
  {
   "cell_type": "code",
   "execution_count": null,
   "metadata": {},
   "outputs": [],
   "source": [
    "import heapq"
   ]
  },
  {
   "cell_type": "markdown",
   "metadata": {},
   "source": [
    "## Defining parameters"
   ]
  },
  {
   "cell_type": "code",
   "execution_count": null,
   "metadata": {},
   "outputs": [],
   "source": [
    "Tp = 10 # Time taken by 1 car to pass the traffic light\n",
    "Tc = 30 # Latency to change traffic light"
   ]
  },
  {
   "cell_type": "markdown",
   "metadata": {},
   "source": [
    "## Defining the State of traffic"
   ]
  },
  {
   "cell_type": "code",
   "execution_count": null,
   "metadata": {},
   "outputs": [],
   "source": [
    "class State:\n",
    "    def __init__(self):\n",
    "        self.cars = 0\n",
    "        self.green = False\n",
    "\n",
    "    def already_green(self):                        # Check if signal is already green\n",
    "        return self.green\n",
    "\n",
    "    def turn_green(self):                           # Turn to green signal\n",
    "        self.green = True\n",
    "\n",
    "    def turn_red(self):                             # Turn to red signal\n",
    "        self.green = False\n",
    "\n",
    "    def insert_car(self):                           # Add one car\n",
    "        self.cars = self.cars + 1\n",
    "\n",
    "    def remove_car(self):                           # Remove all cars\n",
    "        self.cars = 0\n",
    "\n",
    "    def waiting_cars(self):                         # Number of cars waiting in the queue\n",
    "        return self.cars\n",
    "\n",
    "    def __str__(self):\n",
    "        return \"Green light status is: \" + str(self.green) + \"Number of cars are: \" + str(self.cars)\n"
   ]
  },
  {
   "cell_type": "markdown",
   "metadata": {},
   "source": [
    "## Defining an event"
   ]
  },
  {
   "cell_type": "code",
   "execution_count": null,
   "metadata": {},
   "outputs": [],
   "source": [
    "class Event:\n",
    "    def time(self):\n",
    "        return self.time\n",
    "\n",
    "    def __str__(self):\n",
    "        return self.name + \"(\" + str(self.time) + \")\"\n",
    "\n",
    "    def __lt__(self, other):\n",
    "        return self.time < other.time\n",
    "\n",
    "\n",
    "class Car(Event):\n",
    "    def __init__(self, time):\n",
    "        self.time = time\n",
    "        self.name = \"Car\"\n",
    "\n",
    "    def action(self, queue, state):\n",
    "        if not state.already_green():\n",
    "            state.insert_car()\n",
    "            if state.waiting_cars() == 1:\n",
    "                queue.push(Red2Green(self.time + Tc))\n",
    "\n",
    "\n",
    "class Red2Green(Event):                                 # Traffic signal turning from red to green\n",
    "    def __init__(self, time):\n",
    "        self.time = time\n",
    "        self.name = \"Red2Green\"\n",
    "\n",
    "    def action(self, queue, state):\n",
    "        queue.push(Green2Red(self.time + Tp * state.waiting_cars()))\n",
    "        state.turn_green()                              # turn signal to green\n",
    "        state.remove_car()                              # clear all cars\n",
    "\n",
    "\n",
    "class Green2Red(Event):                                 # Traffic signal turning from green to red\n",
    "    def __init__(self, time):\n",
    "        self.time = time\n",
    "        self.name = \"Green2Red\"\n",
    "\n",
    "    def action(self, queue, state):\n",
    "        state.turn_red()                                # turn signal to red\n"
   ]
  },
  {
   "cell_type": "markdown",
   "metadata": {},
   "source": [
    "## Defining the queue"
   ]
  },
  {
   "cell_type": "code",
   "execution_count": null,
   "metadata": {},
   "outputs": [],
   "source": [
    "class Queue:\n",
    "    def __init__(self):\n",
    "        self.q = []\n",
    "\n",
    "    def push(self, event):\n",
    "        heapq.heappush(self.q, event)                   # pushing in a heap data structure\n",
    "\n",
    "    def pop(self):\n",
    "        return heapq.heappop(self.q)                    # popping out from a heap data structure\n",
    "\n",
    "    def notempty(self):\n",
    "        return len(self.q)\n"
   ]
  },
  {
   "cell_type": "markdown",
   "metadata": {},
   "source": [
    "## Adding cars to simulate"
   ]
  },
  {
   "cell_type": "code",
   "execution_count": null,
   "metadata": {},
   "outputs": [],
   "source": [
    "Q = Queue()                                             # Defining a heap for First In First Out\n",
    "Q.push(Car(10))\n",
    "Q.push(Car(25))\n",
    "Q.push(Car(35))\n",
    "Q.push(Car(60))\n",
    "Q.push(Car(75))\n",
    "\n",
    "S = State()\n"
   ]
  },
  {
   "cell_type": "markdown",
   "metadata": {},
   "source": [
    "## Processing events until the queue is Q is empty"
   ]
  },
  {
   "cell_type": "code",
   "execution_count": null,
   "metadata": {},
   "outputs": [],
   "source": [
    "while Q.notempty() > 0:\n",
    "    e = Q.pop()\n",
    "    print(e)\n",
    "    e.action(Q,S)\n"
   ]
  },
  {
   "cell_type": "code",
   "execution_count": null,
   "metadata": {},
   "outputs": [],
   "source": []
  }
 ],
 "metadata": {
  "kernelspec": {
   "display_name": "Python 3",
   "language": "python",
   "name": "python3"
  },
  "language_info": {
   "codemirror_mode": {
    "name": "ipython",
    "version": 3
   },
   "file_extension": ".py",
   "mimetype": "text/x-python",
   "name": "python",
   "nbconvert_exporter": "python",
   "pygments_lexer": "ipython3",
   "version": "3.7.3"
  }
 },
 "nbformat": 4,
 "nbformat_minor": 4
}
