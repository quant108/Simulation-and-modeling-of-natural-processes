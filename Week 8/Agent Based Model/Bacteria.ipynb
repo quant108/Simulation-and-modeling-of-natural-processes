{
 "cells": [
  {
   "cell_type": "markdown",
   "metadata": {},
   "source": [
    "# Coursera - Simulation and modeling of natural processes - Agent based models"
   ]
  },
  {
   "cell_type": "markdown",
   "metadata": {},
   "source": [
    "## Importing libraries"
   ]
  },
  {
   "cell_type": "code",
   "execution_count": 1,
   "metadata": {},
   "outputs": [],
   "source": [
    "import numpy as np\n",
    "import matplotlib\n",
    "import matplotlib.pyplot as plt\n",
    "import math\n",
    "import random\n"
   ]
  },
  {
   "cell_type": "markdown",
   "metadata": {},
   "source": [
    "## Defining parameters"
   ]
  },
  {
   "cell_type": "code",
   "execution_count": 2,
   "metadata": {},
   "outputs": [],
   "source": [
    "V = 2*np.exp(-6)        # Initial velocity\n",
    "dt = 0.2                # Time interval\n",
    "L = 100*np.exp(-6)      # Domain length\n",
    "P1 = 0.9                # Probability to continue in straight direction for high current concentration\n",
    "P2 = 0.5                # Probability to continue in straight direction for less current concentration\n",
    "N = 10                  # Number of bacteria used for simulation\n"
   ]
  },
  {
   "cell_type": "markdown",
   "metadata": {},
   "source": [
    "## Define bacteria as class"
   ]
  },
  {
   "cell_type": "code",
   "execution_count": 3,
   "metadata": {},
   "outputs": [],
   "source": [
    "class Bacteria(object):\n",
    "    def __init__(self, x, y):\n",
    "        self.x = x      # Position of bacteria in X\n",
    "        self.y = y      # Position of bacteria in Y\n",
    "        self.vx = None  # Velocity component in X -> velocity defined as V\n",
    "        self.vy = None  # Velocity component in X -> velocity defined as V\n",
    "        self.randomize_velocity()   # Get a random direction to move\n",
    "        self.old_density = 1/float((1+math.hypot(self.x-L/float(2),self.y-L/float(2))))\n",
    "\n",
    "    def randomize_velocity(self):\n",
    "        alpha = random.random()*np.pi*2     # Generating a random direction\n",
    "        self.vx = V * np.cos(alpha)         # Updating velocity components based on the random direction\n",
    "        self.vy = V * np.sin(alpha)\n",
    "\n",
    "    def movement(self):\n",
    "        current_density = 1/float((1+math.hypot(self.x-L/float(2),self.y-L/float(2))))\n",
    "        forward = False\n",
    "\n",
    "        if current_density > self.old_density:\n",
    "            if random.random() < P1:\n",
    "                forward = True\n",
    "            else:\n",
    "                self.randomize_velocity()\n",
    "\n",
    "        else:\n",
    "            if random.random() < P2:\n",
    "                forward = True\n",
    "            else:\n",
    "                self.randomize_velocity()\n",
    "\n",
    "        self.x = self.x + dt*self.vx        # Updating the position in X\n",
    "        self.y = self.y + dt * self.vy      # Updating the position in Y\n",
    "\n",
    "        self.x %= L\n",
    "        self.y %= L\n",
    "\n",
    "        self.old_density = current_density  # Updating the density\n"
   ]
  },
  {
   "cell_type": "markdown",
   "metadata": {},
   "source": [
    "## Creating list of bacteria"
   ]
  },
  {
   "cell_type": "code",
   "execution_count": 4,
   "metadata": {},
   "outputs": [],
   "source": [
    "bac_list = [Bacteria(random.random() * L, random.random() * L) for i in range(N)]"
   ]
  },
  {
   "cell_type": "markdown",
   "metadata": {},
   "source": [
    "## Plotting the bacteria movement"
   ]
  },
  {
   "cell_type": "code",
   "execution_count": 6,
   "metadata": {},
   "outputs": [
    {
     "data": {
      "image/png": "[encoded data removed]",
      "text/plain": [
       "<Figure size 432x288 with 1 Axes>"
      ]
     },
     "metadata": {
      "needs_background": "light"
     },
     "output_type": "display_data"
    },
    {
     "data": {
      "image/png": "[encoded data removed]",
      "text/plain": [
       "<Figure size 432x288 with 1 Axes>"
      ]
     },
     "metadata": {
      "needs_background": "light"
     },
     "output_type": "display_data"
    }
   ],
   "source": [
    "m = np.zeros((100, 100))\n",
    "plt.figure()\n",
    "line1 = plt.plot(m)\n",
    "plt.title(\"Bacteria\")\n",
    "plt.ion()\n",
    "plt.show()\n",
    "\n",
    "for it in range(200):                       # Number of time steps used = 200\n",
    "    if it%10 == 0:\n",
    "        m = np.zeros((100, 100))\n",
    "        for x in range(100):\n",
    "            for y in range(100):\n",
    "                m[x, y] = 1/float((1+math.hypot((x * L / float(100)) -L/float(2),(y * L / float(100))-L/float(2))))\n",
    "        for bacteria in bac_list:\n",
    "            x, y = int(bacteria.x * 100/L), int(bacteria.y * 100/L)\n",
    "            m[x, y] = 1.0\n",
    "        plt.imshow(m)  # add interpolation='None' for non-smoothed image\n",
    "        # plt.savefig(\"bacteria\" + str(it) + \".png\")\n",
    "        plt.gcf().canvas.draw()\n",
    "\n",
    "    for ib in bac_list:\n",
    "        ib.movement()"
   ]
  },
  {
   "cell_type": "code",
   "execution_count": null,
   "metadata": {},
   "outputs": [],
   "source": []
  }
 ],
 "metadata": {
  "kernelspec": {
   "display_name": "Python 3",
   "language": "python",
   "name": "python3"
  },
  "language_info": {
   "codemirror_mode": {
    "name": "ipython",
    "version": 3
   },
   "file_extension": ".py",
   "mimetype": "text/x-python",
   "name": "python",
   "nbconvert_exporter": "python",
   "pygments_lexer": "ipython3",
   "version": "3.7.3"
  }
 },
 "nbformat": 4,
 "nbformat_minor": 4
}
